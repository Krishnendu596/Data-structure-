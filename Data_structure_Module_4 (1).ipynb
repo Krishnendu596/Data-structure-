{
  "nbformat": 4,
  "nbformat_minor": 0,
  "metadata": {
    "colab": {
      "provenance": [],
      "toc_visible": true
    },
    "kernelspec": {
      "name": "python3",
      "display_name": "Python 3"
    },
    "language_info": {
      "name": "python"
    }
  },
  "cells": [
    {
      "cell_type": "markdown",
      "source": [
        "Data Structures"
      ],
      "metadata": {
        "id": "bp7gUQHQeT-8"
      }
    },
    {
      "cell_type": "markdown",
      "source": [
        " 1:   What are data structures, and why are they important?**  \n",
        "  - Data structures are ways to store and organize data in a computer efficiently so that operations like access, insertion, deletion, and search can be performed quickly. They are essential because they help manage data in an optimized way, making algorithms run faster and use memory efficiently.\n",
        " **Examples of data structures:**  \n",
        "1. **Lists** – Dynamic arrays that allow fast insertions and deletions.  \n",
        "2. **Tuples** – Immutable sequences that store multiple values.  \n",
        "3. **Dictionaries** – Key-value pairs that allow fast lookups.  \n",
        "4. **Sets** – Collections of unique elements that prevent duplicates.  \n",
        "5. **Stacks & Queues** – Used in algorithms like recursion and scheduling.  \n",
        "6. **Trees & Graphs** – Used in complex structures like file systems and social networks.  \n",
        "\n",
        "**Importance of data structures:**  \n",
        "- They **increase efficiency** in operations like sorting and searching.  \n",
        "- They **reduce memory usage** by organizing data optimally.  \n",
        "- They **enable complex problem-solving**, like AI and databases.  \n",
        "\n",
        "---\n",
        "\n",
        "2: Explain the difference between mutable and immutable data types with examples.**  \n",
        "A **mutable** object can be changed after it is created, whereas an **immutable** object cannot be changed once created.  \n",
        "\n",
        "**Mutable Objects (Can be changed):**  \n",
        "- Lists  \n",
        "- Dictionaries  \n",
        "- Sets  \n",
        "\n",
        " **Immutable Objects (Cannot be changed):**  \n",
        "- Strings  \n",
        "- Tuples  \n",
        "- Integers & Floats  \n",
        "\n",
        "**Example of a mutable object (List):**  \n",
        "```python\n",
        "my_list = [1, 2, 3]\n",
        "my_list.append(4)  # Modifies the list\n",
        "print(my_list)  # Output: [1, 2, 3, 4]\n",
        "```\n",
        "\n",
        " **Example of an immutable object (Tuple):**  \n",
        "```python\n",
        "my_tuple = (1, 2, 3)\n",
        "my_tuple[1] = 5  # ❌ Raises TypeError because tuples cannot be modified\n",
        "```\n",
        "\n",
        "---\n",
        "\n",
        " 3: What are the main differences between lists and tuples in Python?**  \n",
        "\n",
        "| Feature       | List                         | Tuple                          |\n",
        "|--------------|-----------------------------|--------------------------------|\n",
        "| **Mutability** | Mutable (can be changed)   | Immutable (cannot be changed) |\n",
        "| **Speed**    | Slower (because of mutability) | Faster (because of immutability) |\n",
        "| **Memory**   | Takes more memory | Takes less memory |\n",
        "| **Use Case** | When frequent modifications are needed | When data should not change |\n",
        "\n",
        " **Example:**  \n",
        "```python\n",
        "# List (can be modified)\n",
        "my_list = [1, 2, 3]\n",
        "my_list.append(4)\n",
        "print(my_list)  # Output: [1, 2, 3, 4]\n",
        "\n",
        "# Tuple (cannot be modified)\n",
        "my_tuple = (1, 2, 3)\n",
        "# my_tuple[1] = 5  # ❌ Raises TypeError\n",
        "```\n",
        "\n",
        "---\n",
        "\n",
        " 4: Describe how dictionaries store data.\n",
        "\n",
        "   - Dictionaries in Python store data as **key-value pairs** using a **hash table** internally.  \n",
        "\n",
        "Each **key** is hashed to generate a unique index, allowing for fast access. Unlike lists, dictionaries do not store elements in order.  \n",
        "\n",
        " **Example of a dictionary:**  \n",
        "```python\n",
        "student = {\"name\": \"Alice\", \"age\": 25}\n",
        "print(student[\"name\"])  # Output: Alice\n",
        "```\n",
        "\n",
        "Since dictionaries use hashing, accessing an element has an average time complexity of **O(1)** (constant time).  \n",
        "\n",
        "---\n",
        "\n",
        " 5: Why might you use a set instead of a list in Python?\n",
        "\n",
        "   - Sets are useful in situations where:  \n",
        "1. **Duplicate values** should be removed automatically.  \n",
        "2. **Fast lookups** are required (O(1) complexity vs. O(n) in lists).  \n",
        "\n",
        " **Example:**  \n",
        "```python\n",
        "my_list = [1, 2, 2, 3, 4]\n",
        "my_set = set(my_list)  # Removes duplicates\n",
        "print(my_set)  # Output: {1, 2, 3, 4}\n",
        "```\n",
        "\n",
        "In contrast, lists allow duplicates and have **O(n) lookup time** for checking if an element exists.  \n",
        "\n",
        "---\n",
        "\n",
        " 6: What is a string in Python, and how is it different from a list?\n",
        "\n",
        "   - A string is an immutable sequence of characters, whereas a list is mutable and can contain different data types.  \n",
        "\n",
        " **Differences between strings and lists:**  \n",
        "| Feature | String | List |\n",
        "|---------|--------|------|\n",
        "| Mutability | Immutable | Mutable |\n",
        "| Data type | Contains only characters | Can contain multiple data types |\n",
        "| Modification | Cannot be changed | Can be changed |\n",
        "\n",
        " **Example:**  \n",
        "```python\n",
        "# Strings are immutable\n",
        "text = \"Hello\"\n",
        "# text[0] = \"M\"  # ❌ Raises TypeError\n",
        "\n",
        "# Lists are mutable\n",
        "my_list = [\"H\", \"e\", \"l\", \"l\", \"o\"]\n",
        "my_list[0] = \"M\"\n",
        "print(my_list)  # Output: ['M', 'e', 'l', 'l', 'o']\n",
        "```\n",
        "\n",
        "---\n",
        "\n",
        "7: How do tuples ensure data integrity in Python?\n",
        "\n",
        "   - Tuples are **immutable**, meaning once created, they **cannot be changed**. This prevents accidental modifications, making them ideal for storing **constant values** or **database records**.  \n",
        "    **Example:**  \n",
        "```python\n",
        "coordinates = (10.5, 20.7)\n",
        "# coordinates[0] = 15.0  # ❌ Raises TypeError (cannot modify a tuple)\n",
        "```\n",
        "\n",
        "This ensures **data integrity** because values cannot be altered unexpectedly.  \n",
        "\n",
        "---\n",
        "\n",
        " 8: What is a hash table, and how does it relate to dictionaries in Python?\n",
        "\n",
        "   - A **hash table** is a data structure that stores **key-value pairs** using a **hashing function** to compute an index for each key.  \n",
        "\n",
        "Python dictionaries are implemented using hash tables, making them **very fast for lookups (O(1) average case).**  \n",
        "\n",
        "**Example:**  \n",
        "```python\n",
        "my_dict = {\"apple\": 10, \"banana\": 20}\n",
        "print(my_dict[\"banana\"])  # Output: 20\n",
        "```\n",
        "\n",
        "Dictionaries leverage hash tables to **store and retrieve values efficiently.**  \n",
        "\n",
        "---\n",
        "\n",
        " 9: Can lists contain different data types in Python?  \n",
        "Yes, Python **allows lists** to store **multiple data types** within a single list.  \n",
        "\n",
        " **Example:**  \n",
        "```python\n",
        "mixed_list = [1, \"hello\", 3.14, [1, 2, 3]]\n",
        "print(mixed_list)  # Output: [1, 'hello', 3.14, [1, 2, 3]]\n",
        "```\n",
        "\n",
        "Since Python is **dynamically typed**, lists can contain numbers, strings, and even other lists or dictionaries.  \n",
        "\n",
        "---\n",
        " 10: Explain why strings are immutable in Python.\n",
        "Strings in Python are **immutable** because:  \n",
        "1. They are stored **efficiently in memory** (reducing overhead).  \n",
        "2. They **prevent accidental modification** of data.  \n",
        "3. They enable **safe usage in dictionaries and sets** (because they can be hashed).  \n",
        "\n",
        " **Example:**  \n",
        "```python\n",
        "text = \"Hello\"\n",
        "# text[0] = \"M\"  # ❌ Raises TypeError\n",
        "\n",
        "# Instead, we create a new string:\n",
        "new_text = \"M\" + text[1:]\n",
        "print(new_text)  # Output: \"Mello\"\n",
        "```\n",
        "\n",
        "Instead of modifying strings directly, Python creates **a new string** when changes are needed.  \n",
        "\n",
        "---\n",
        "\n",
        "\n",
        "\n",
        "Text cell <hOAiN7HCX5WS>\n",
        "# %% [markdown]\n",
        "\n",
        "---\n",
        "\n",
        " 10: Explain why strings are immutable in Python.**  \n",
        "In Python, **strings are immutable**, meaning their contents **cannot be changed** after creation.  \n",
        "\n",
        " **Reasons for string immutability:**\n",
        "1. **Memory Optimization:**  \n",
        "   - Strings are stored in a **shared memory pool** (string interning). If they were mutable, multiple references could be modified unexpectedly.  \n",
        "2. **Hashing for Dictionary Keys:**  \n",
        "   - Strings are used as **keys in dictionaries**. If they were mutable, their hash value would change, leading to lookup failures.  \n",
        "3. **Security and Integrity:**  \n",
        "   - Many functions rely on string consistency. If strings were mutable, unintended modifications could occur.\n",
        "\n",
        " **Example:**\n",
        "```python\n",
        "text = \"Hello\"\n",
        "text[0] = \"M\"  # TypeError: 'str' object does not support item assignment\n",
        "```\n",
        "Instead, a new string must be created:\n",
        "```python\n",
        "new_text = \"M\" + text[1:]  # Output: \"Mello\"\n",
        "```\n",
        "---\n",
        "  11: What advantages do dictionaries offer over lists for certain tasks?  \n",
        "\n",
        "Dictionaries are **more efficient** than lists in certain situations:  \n",
        "\n",
        " **1. Faster Lookups (`O(1)` vs. `O(n)`)**  \n",
        "- **Dictionaries** use a **hash table** to store key-value pairs, so retrieving a value by key takes constant time (`O(1)`).  \n",
        "- **Lists** require scanning (`O(n)`) to find an element.  \n",
        "\n",
        "**Example:**\n",
        "```python\n",
        "# Using a dictionary\n",
        "student_grades = {\"Alice\": \"A\", \"Bob\": \"B\"}\n",
        "print(student_grades[\"Alice\"])  # O(1)\n",
        "\n",
        "# Using a list (inefficient for lookup)\n",
        "students = [(\"Alice\", \"A\"), (\"Bob\", \"B\")]\n",
        "for name, grade in students:\n",
        "    if name == \"Alice\":\n",
        "        print(grade)  # O(n)\n",
        "```\n",
        "  \n",
        " **2. Meaningful Data Storage**  \n",
        "- Dictionary **keys** act as labels, making data retrieval intuitive.  \n",
        "\n",
        " **3. No Duplicates in Keys**  \n",
        "- Unlike lists, dictionaries prevent duplicate keys.  \n",
        "\n",
        "---\n",
        "  12: Describe a scenario where using a tuple would be preferable over a list.\n",
        "\n",
        "Tuples are preferable when **data should not be modified**.  \n",
        "\n",
        " **Scenario 1: Storing Fixed Coordinates**  \n",
        "```python\n",
        "location = (40.7128, 74.0060)  # New York City latitude & longitude\n",
        "```\n",
        "- Coordinates should **not change**, so a tuple is ideal.  \n",
        "\n",
        " **Scenario 2: Dictionary Keys**  \n",
        "Tuples can be used as **keys in dictionaries**, while lists cannot.  \n",
        "```python\n",
        "locations = {\n",
        "    (40.7128, 74.0060): \"New York\",\n",
        "    (34.0522, -118.2437): \"Los Angeles\"\n",
        "}\n",
        "```\n",
        "- Lists **cannot** be used as dictionary keys since they are mutable.\n",
        "\n",
        "---\n",
        " 13: How do sets handle duplicate values in Python?  \n",
        "\n",
        "Sets **automatically remove duplicates** when elements are added.  \n",
        "\n",
        " **Example:**\n",
        "```python\n",
        "numbers = {1, 2, 2, 3, 4, 4}\n",
        "print(numbers)  # Output: {1, 2, 3, 4} (duplicates removed)\n",
        "```\n",
        "\n",
        " **Why?**  \n",
        "- Sets use **hash tables** to store values, ensuring **each value is unique**.\n",
        "\n",
        "---\n",
        "  14: How does the “in” keyword work differently for lists and dictionaries?  \n",
        "\n",
        " **For Lists (`O(n)`)**  \n",
        "- The `in` operator **checks every element** in the list, making it **slow (`O(n)`)**.  \n",
        "```python\n",
        "nums = [10, 20, 30, 40]\n",
        "print(20 in nums)  # True (searches through the list)\n",
        "```\n",
        "\n",
        " **For Dictionaries (`O(1)`)**  \n",
        "- The `in` operator checks **only keys**, making lookups **fast (`O(1)`)**.  \n",
        "```python\n",
        "my_dict = {\"name\": \"Alice\", \"age\": 25}\n",
        "print(\"name\" in my_dict)  # True (direct hash table lookup)\n",
        "```\n",
        "- **Important:** `in` checks keys, not values.  \n",
        "```python\n",
        "print(\"Alice\" in my_dict)  # False\n",
        "```\n",
        "\n",
        "---\n",
        " 15: Can you modify the elements of a tuple? Explain why or why not.\n",
        "\n",
        "No, **tuples are immutable**, meaning elements **cannot be changed** after creation.  \n",
        "\n",
        "#### **Example:**\n",
        "```python\n",
        "my_tuple = (1, 2, 3)\n",
        "my_tuple[1] = 5  # TypeError: 'tuple' object does not support item assignment\n",
        "```\n",
        "\n",
        "#### **Why?**  \n",
        "1. **Prevents accidental modifications**  \n",
        "2. **Optimized for speed and memory usage**  \n",
        "3. **Allows safe use as dictionary keys**  \n",
        "\n",
        "However, **if a tuple contains mutable elements, those can be modified**:  \n",
        "```python\n",
        "nested_tuple = ([1, 2, 3], \"fixed\")\n",
        "nested_tuple[0].append(4)  # Works, modifies list inside tuple\n",
        "print(nested_tuple)  # ([1, 2, 3, 4], 'fixed')\n",
        "```\n",
        "\n",
        "---\n",
        " 16: What is a nested dictionary, and give an example of its use case?\n",
        "\n",
        "A **nested dictionary** is a dictionary inside another dictionary. It’s useful for **storing hierarchical data**.  \n",
        "\n",
        "#### **Example: Storing Student Records**\n",
        "```python\n",
        "students = {\n",
        "    \"Alice\": {\"age\": 22, \"grade\": \"A\"},\n",
        "    \"Bob\": {\"age\": 24, \"grade\": \"B\"}\n",
        "}\n",
        "print(students[\"Alice\"][\"age\"])  # Output: 22\n",
        "```\n",
        "\n",
        "---\n",
        " 17: Describe the time complexity of accessing elements in a dictionary.  \n",
        "\n",
        "- **Average case:** `O(1)` (constant time lookup using a hash function)  \n",
        "- **Worst case:** `O(n)` (rare cases when hash collisions occur)\n",
        "\n",
        "**Example:**\n",
        "```python\n",
        "my_dict = {\"a\": 10, \"b\": 20, \"c\": 30}\n",
        "print(my_dict[\"b\"])  # O(1) lookup\n",
        "```\n",
        "\n",
        "---\n",
        " 18: In what situations are lists preferred over dictionaries?\n",
        "\n",
        "1. **Maintaining Order:** Lists preserve insertion order (before Python 3.7, dictionaries didn't).  \n",
        "2. **Sequential Data Processing:** Lists are better for operations like sorting and slicing.  \n",
        "3. **Memory Efficiency:** Lists use **less memory** than dictionaries.\n",
        "\n",
        "**Example: Sorting a list**\n",
        "```python\n",
        "numbers = [5, 3, 8, 1]\n",
        "numbers.sort()\n",
        "print(numbers)  # Output: [1, 3, 5, 8]\n",
        "```\n",
        "\n",
        "---\n",
        " 19: Why are dictionaries considered unordered, and how does that affect data retrieval?\n",
        "\n",
        "Before Python 3.7, dictionaries **did not maintain order** because they were implemented as **hash tables**.  \n",
        "\n",
        "- **Effect:**  \n",
        "  - **Unordered retrieval:** Elements could appear in any sequence.  \n",
        "  - **Fast lookups:** No need for sequential scanning like lists.\n",
        "\n",
        " **Example:**\n",
        "```python\n",
        "d = {\"z\": 1, \"x\": 2, \"y\": 3}\n",
        "print(d)  # Before Python 3.7, order was unpredictable\n",
        "```\n",
        "\n",
        "From Python 3.7+, dictionaries **preserve insertion order**.\n",
        "\n",
        "---\n",
        " 20: Explain the difference between a list and a dictionary in terms of data retrieval.\n",
        "\n",
        "| Feature  | List | Dictionary |\n",
        "|----------|------|-----------|\n",
        "| **Retrieval Time** | O(n) (searching element) | O(1) (direct access) |\n",
        "| **Access Method** | Index-based | Key-based |\n",
        "| **Use Case** | Ordered data storage | Key-value pair retrieval |\n",
        "\n",
        " **Example:**\n",
        "```python\n",
        "# List retrieval (O(n))\n",
        "my_list = [\"apple\", \"banana\", \"cherry\"]\n",
        "print(my_list[1])  # Output: \"banana\"\n",
        "\n",
        "# Dictionary retrieval (O(1))\n",
        "my_dict = {\"fruit1\": \"apple\", \"fruit2\": \"banana\"}\n",
        "print(my_dict[\"fruit2\"])  # Output: \"banana\"\n",
        "```\n",
        "\n",
        "---\n",
        "\n",
        "\n",
        "\n",
        "\n",
        "\n",
        "\n",
        "\n",
        "\n"
      ],
      "metadata": {
        "id": "oQNHYutKhn7r"
      }
    },
    {
      "cell_type": "markdown",
      "source": [
        "1. Write a code to create a string with your name and print it."
      ],
      "metadata": {
        "id": "qcNB2B4U1LdY"
      }
    },
    {
      "cell_type": "code",
      "source": [
        "my_name = \"Krishnendu Biswas\"\n",
        "my_name"
      ],
      "metadata": {
        "colab": {
          "base_uri": "https://localhost:8080/",
          "height": 35
        },
        "id": "KVruqO8d6RxP",
        "outputId": "aef683e4-6371-4f9a-8c17-0585a4d70fb8"
      },
      "execution_count": 2,
      "outputs": [
        {
          "output_type": "execute_result",
          "data": {
            "text/plain": [
              "'Krishnendu Biswas'"
            ],
            "application/vnd.google.colaboratory.intrinsic+json": {
              "type": "string"
            }
          },
          "metadata": {},
          "execution_count": 2
        }
      ]
    },
    {
      "cell_type": "markdown",
      "source": [
        "   2. Write a code to find the length of the string \"Hello World\"."
      ],
      "metadata": {
        "id": "I-TgWxQB6Xf4"
      }
    },
    {
      "cell_type": "code",
      "source": [
        "s = \"Hello World\"\n",
        "print(len(s))"
      ],
      "metadata": {
        "colab": {
          "base_uri": "https://localhost:8080/"
        },
        "id": "rRM8Adjb7M8n",
        "outputId": "f419c710-190b-4ff9-d865-3f9d579fc668"
      },
      "execution_count": 5,
      "outputs": [
        {
          "output_type": "stream",
          "name": "stdout",
          "text": [
            "11\n"
          ]
        }
      ]
    },
    {
      "cell_type": "markdown",
      "source": [
        "   3. Write a code to slice the first 3 characters from the string \"Python Programming\"."
      ],
      "metadata": {
        "id": "X4w6nPJr7WaH"
      }
    },
    {
      "cell_type": "code",
      "source": [
        "s = \"Python Programming\"\n",
        "print(s[:3])"
      ],
      "metadata": {
        "colab": {
          "base_uri": "https://localhost:8080/"
        },
        "id": "qHw4w2j37mqX",
        "outputId": "06ae87f7-fcda-4b3b-ba3f-ff28584a3125"
      },
      "execution_count": 6,
      "outputs": [
        {
          "output_type": "stream",
          "name": "stdout",
          "text": [
            "Pyt\n"
          ]
        }
      ]
    },
    {
      "cell_type": "markdown",
      "source": [
        "   4. Write a code to convert the string \"hello\" to uppercase."
      ],
      "metadata": {
        "id": "cXJxyA7d7qNf"
      }
    },
    {
      "cell_type": "code",
      "source": [
        "s = \"hello\"\n",
        "print(s.upper())"
      ],
      "metadata": {
        "colab": {
          "base_uri": "https://localhost:8080/"
        },
        "id": "U7Q1OfG376L3",
        "outputId": "1aec3069-c1af-4b05-8359-f6f83f310870"
      },
      "execution_count": 7,
      "outputs": [
        {
          "output_type": "stream",
          "name": "stdout",
          "text": [
            "HELLO\n"
          ]
        }
      ]
    },
    {
      "cell_type": "markdown",
      "source": [
        "   5. Write a code to replace the word \"apple\" with \"orange\" in the string \"I like apple\"."
      ],
      "metadata": {
        "id": "3sDXcoq67_vn"
      }
    },
    {
      "cell_type": "code",
      "source": [
        "s = \"I like apple\"\n",
        "s = s.replace(\"apple\", \"orange\")\n",
        "print(s)"
      ],
      "metadata": {
        "colab": {
          "base_uri": "https://localhost:8080/"
        },
        "id": "TlKXdLvA8NSP",
        "outputId": "8fbf22eb-4daa-4a01-a839-5262ef607c82"
      },
      "execution_count": 8,
      "outputs": [
        {
          "output_type": "stream",
          "name": "stdout",
          "text": [
            "I like orange\n"
          ]
        }
      ]
    },
    {
      "cell_type": "markdown",
      "source": [
        "   6. Write a code to create a list with numbers 1 to 5 and print it."
      ],
      "metadata": {
        "id": "NwIffvYi8QvX"
      }
    },
    {
      "cell_type": "code",
      "source": [
        "my_list = [1, 2, 3, 4, 5]\n",
        "print(my_list)"
      ],
      "metadata": {
        "colab": {
          "base_uri": "https://localhost:8080/"
        },
        "id": "S8Rr6YXl8iFn",
        "outputId": "e6cba531-7a5b-44aa-d695-a9e5ef9141f1"
      },
      "execution_count": 9,
      "outputs": [
        {
          "output_type": "stream",
          "name": "stdout",
          "text": [
            "[1, 2, 3, 4, 5]\n"
          ]
        }
      ]
    },
    {
      "cell_type": "markdown",
      "source": [
        "   7.  Write a code to append the number 10 to the list [1, 2, 3, 4]."
      ],
      "metadata": {
        "id": "ziAnWjVw8krP"
      }
    },
    {
      "cell_type": "code",
      "source": [
        "my_list = [1, 2, 3, 4]\n",
        "my_list.append(10)\n",
        "print(my_list)"
      ],
      "metadata": {
        "colab": {
          "base_uri": "https://localhost:8080/"
        },
        "id": "8Csq_oIp8y03",
        "outputId": "53662184-573c-4360-b5dd-bd5709a24462"
      },
      "execution_count": 10,
      "outputs": [
        {
          "output_type": "stream",
          "name": "stdout",
          "text": [
            "[1, 2, 3, 4, 10]\n"
          ]
        }
      ]
    },
    {
      "cell_type": "markdown",
      "source": [
        "   8.  Write a code to remove the number 3 from the list [1, 2, 3, 4, 5]."
      ],
      "metadata": {
        "id": "UreEmLdM8083"
      }
    },
    {
      "cell_type": "code",
      "source": [
        "my_list = [1, 2, 3, 4, 5]\n",
        "my_list.remove(3)\n",
        "my_list"
      ],
      "metadata": {
        "colab": {
          "base_uri": "https://localhost:8080/"
        },
        "id": "mDJLWU9p9F4W",
        "outputId": "829fb0d7-f0b5-4581-b9d3-987191dfa271"
      },
      "execution_count": 11,
      "outputs": [
        {
          "output_type": "execute_result",
          "data": {
            "text/plain": [
              "[1, 2, 4, 5]"
            ]
          },
          "metadata": {},
          "execution_count": 11
        }
      ]
    },
    {
      "cell_type": "markdown",
      "source": [
        "   9. Write a code to access the second element in the list ['a', 'b', 'c', 'd']."
      ],
      "metadata": {
        "id": "AaxIG8nm9JJf"
      }
    },
    {
      "cell_type": "code",
      "source": [
        "my_list = ['a', 'b', 'c', 'd']\n",
        "print(my_list[1])"
      ],
      "metadata": {
        "colab": {
          "base_uri": "https://localhost:8080/"
        },
        "id": "laNWt2Wu9a1_",
        "outputId": "d1db3a5c-ff97-4b5f-8205-1fc645381f8b"
      },
      "execution_count": 12,
      "outputs": [
        {
          "output_type": "stream",
          "name": "stdout",
          "text": [
            "b\n"
          ]
        }
      ]
    },
    {
      "cell_type": "markdown",
      "source": [
        "   10. Write a code to reverse the list [10, 20, 30, 40, 50]."
      ],
      "metadata": {
        "id": "nnCHU7nx9jAH"
      }
    },
    {
      "cell_type": "code",
      "source": [
        "my_list = [10, 20, 30, 40, 50]\n",
        "my_list.reverse()\n",
        "my_list"
      ],
      "metadata": {
        "colab": {
          "base_uri": "https://localhost:8080/"
        },
        "id": "mM8UOScR9u9f",
        "outputId": "cb1b0785-dea0-428e-f29a-9ab9c7c75f3e"
      },
      "execution_count": 13,
      "outputs": [
        {
          "output_type": "execute_result",
          "data": {
            "text/plain": [
              "[50, 40, 30, 20, 10]"
            ]
          },
          "metadata": {},
          "execution_count": 13
        }
      ]
    },
    {
      "cell_type": "markdown",
      "source": [
        "   11. Write a code to create a tuple with the elements 100, 200, 300 and print it."
      ],
      "metadata": {
        "id": "ezYS8uTa9x_3"
      }
    },
    {
      "cell_type": "code",
      "source": [
        "my_tuple = (100, 200, 300)\n",
        "my_tuple\n"
      ],
      "metadata": {
        "colab": {
          "base_uri": "https://localhost:8080/"
        },
        "id": "-3s67LYI97-v",
        "outputId": "dc7cab94-2d77-4b12-bfcf-ffeb6c71909f"
      },
      "execution_count": 14,
      "outputs": [
        {
          "output_type": "execute_result",
          "data": {
            "text/plain": [
              "(100, 200, 300)"
            ]
          },
          "metadata": {},
          "execution_count": 14
        }
      ]
    },
    {
      "cell_type": "markdown",
      "source": [
        "   12.  Write a code to access the second-to-last element of the tuple ('red', 'green', 'blue', 'yellow')."
      ],
      "metadata": {
        "id": "DxtTmyKE9_sH"
      }
    },
    {
      "cell_type": "code",
      "source": [
        "my_tuple = ('red', 'green', 'blue', 'yellow')\n",
        "my_tuple[-2]"
      ],
      "metadata": {
        "colab": {
          "base_uri": "https://localhost:8080/",
          "height": 35
        },
        "id": "4SQq9sng-Oi3",
        "outputId": "ec4ef52f-5f58-4ea8-e11f-afb55c59e08d"
      },
      "execution_count": 15,
      "outputs": [
        {
          "output_type": "execute_result",
          "data": {
            "text/plain": [
              "'blue'"
            ],
            "application/vnd.google.colaboratory.intrinsic+json": {
              "type": "string"
            }
          },
          "metadata": {},
          "execution_count": 15
        }
      ]
    },
    {
      "cell_type": "markdown",
      "source": [
        "   13. Write a code to find the minimum number in the tuple (10, 20, 5, 15)."
      ],
      "metadata": {
        "id": "Fp8xZ-bq-R1H"
      }
    },
    {
      "cell_type": "code",
      "source": [
        "my_tuple = (10, 20, 5, 15)\n",
        "print(min(my_tuple))\n"
      ],
      "metadata": {
        "colab": {
          "base_uri": "https://localhost:8080/"
        },
        "id": "qe79yeBk-vxX",
        "outputId": "5cd34575-3082-441b-89c3-9a7ec8520532"
      },
      "execution_count": 16,
      "outputs": [
        {
          "output_type": "stream",
          "name": "stdout",
          "text": [
            "5\n"
          ]
        }
      ]
    },
    {
      "cell_type": "markdown",
      "source": [
        "   14. Write a code to find the index of the element \"cat\" in the tuple ('dog', 'cat', 'rabbit')."
      ],
      "metadata": {
        "id": "9qXABtE3-zBf"
      }
    },
    {
      "cell_type": "code",
      "source": [
        "y_tuple = ('dog', 'cat', 'rabbit')\n",
        "print(y_tuple.index(\"cat\"))"
      ],
      "metadata": {
        "colab": {
          "base_uri": "https://localhost:8080/"
        },
        "id": "fYRGoF76-8RG",
        "outputId": "92144d3c-ed09-43f4-e3d3-72e52f243557"
      },
      "execution_count": 18,
      "outputs": [
        {
          "output_type": "stream",
          "name": "stdout",
          "text": [
            "1\n"
          ]
        }
      ]
    },
    {
      "cell_type": "markdown",
      "source": [
        "   15.  Write a code to create a tuple containing three different fruits and check if \"kiwi\" is in it."
      ],
      "metadata": {
        "id": "RGI5p04T_HkH"
      }
    },
    {
      "cell_type": "code",
      "source": [
        "fruits_tuple = (\"apple\", \"banana\", \"cherry\")\n",
        "print(\"kiwi\" in fruits_tuple)"
      ],
      "metadata": {
        "colab": {
          "base_uri": "https://localhost:8080/"
        },
        "id": "ZhnVRCTy_Vzn",
        "outputId": "ae3750a5-0096-43e9-fe69-84beb85dcb5e"
      },
      "execution_count": 19,
      "outputs": [
        {
          "output_type": "stream",
          "name": "stdout",
          "text": [
            "False\n"
          ]
        }
      ]
    },
    {
      "cell_type": "markdown",
      "source": [
        "   16. Write a code to create a set with the elements 'a', 'b', 'c' and print it."
      ],
      "metadata": {
        "id": "rnO3g6eG_Ylf"
      }
    },
    {
      "cell_type": "code",
      "source": [
        "my_set = {'a', 'b', 'c'}\n",
        "my_set"
      ],
      "metadata": {
        "colab": {
          "base_uri": "https://localhost:8080/"
        },
        "id": "dO8aASyZ_ks_",
        "outputId": "2caa8ad7-f080-4620-ef74-04f2643324cb"
      },
      "execution_count": 20,
      "outputs": [
        {
          "output_type": "execute_result",
          "data": {
            "text/plain": [
              "{'a', 'b', 'c'}"
            ]
          },
          "metadata": {},
          "execution_count": 20
        }
      ]
    },
    {
      "cell_type": "markdown",
      "source": [
        "   17.  Write a code to clear all elements from the set {1, 2, 3, 4, 5}."
      ],
      "metadata": {
        "id": "ex1FVcQB_mhv"
      }
    },
    {
      "cell_type": "code",
      "source": [
        "my_set = {1, 2, 3, 4, 5}\n",
        "my_set.clear()\n",
        "my_set"
      ],
      "metadata": {
        "colab": {
          "base_uri": "https://localhost:8080/"
        },
        "id": "_5fMH21U_1w3",
        "outputId": "54d1c824-f0db-44ec-9d8a-4ac07b09a5c2"
      },
      "execution_count": 21,
      "outputs": [
        {
          "output_type": "execute_result",
          "data": {
            "text/plain": [
              "set()"
            ]
          },
          "metadata": {},
          "execution_count": 21
        }
      ]
    },
    {
      "cell_type": "markdown",
      "source": [
        "   18.  Write a code to remove the element 4 from the set {1, 2, 3, 4}."
      ],
      "metadata": {
        "id": "n-n6lKJm_5Vf"
      }
    },
    {
      "cell_type": "code",
      "source": [
        "my_set = {1, 2, 3, 4}\n",
        "my_set.remove(4)\n",
        "my_set"
      ],
      "metadata": {
        "colab": {
          "base_uri": "https://localhost:8080/"
        },
        "id": "31_uz-IjAKy3",
        "outputId": "bc77ddd8-648a-46cc-c235-8ac562c07304"
      },
      "execution_count": 22,
      "outputs": [
        {
          "output_type": "execute_result",
          "data": {
            "text/plain": [
              "{1, 2, 3}"
            ]
          },
          "metadata": {},
          "execution_count": 22
        }
      ]
    },
    {
      "cell_type": "markdown",
      "source": [
        "   19. Write a code to find the union of two sets {1, 2, 3} and {3, 4, 5}."
      ],
      "metadata": {
        "id": "e9AhKX46AMc_"
      }
    },
    {
      "cell_type": "code",
      "source": [
        "set1 = {1, 2, 3}\n",
        "set2 = {3, 4, 5}\n",
        "union_set = set1.union(set2)\n",
        "union_set"
      ],
      "metadata": {
        "colab": {
          "base_uri": "https://localhost:8080/"
        },
        "id": "JXhjBYdfAUun",
        "outputId": "eb03b466-a1b6-4072-e735-c6f812f973ef"
      },
      "execution_count": 23,
      "outputs": [
        {
          "output_type": "execute_result",
          "data": {
            "text/plain": [
              "{1, 2, 3, 4, 5}"
            ]
          },
          "metadata": {},
          "execution_count": 23
        }
      ]
    },
    {
      "cell_type": "markdown",
      "source": [
        "   20. Write a code to find the intersection of two sets {1, 2, 3} and {2, 3, 4}."
      ],
      "metadata": {
        "id": "g0hipnrlAWLn"
      }
    },
    {
      "cell_type": "code",
      "source": [
        "set1 = {1, 2, 3}\n",
        "set2 = {2, 3, 4}\n",
        "intersection_set = set1.intersection(set2)\n",
        "intersection_set"
      ],
      "metadata": {
        "colab": {
          "base_uri": "https://localhost:8080/"
        },
        "id": "DpgYOEvXAgZ_",
        "outputId": "5e02c7ea-6d42-44b9-8bc9-d403ab2d3d3f"
      },
      "execution_count": 24,
      "outputs": [
        {
          "output_type": "execute_result",
          "data": {
            "text/plain": [
              "{2, 3}"
            ]
          },
          "metadata": {},
          "execution_count": 24
        }
      ]
    },
    {
      "cell_type": "markdown",
      "source": [
        "   21.  Write a code to create a dictionary with the keys \"name\", \"age\", and \"city\", and print it."
      ],
      "metadata": {
        "id": "v5qJNUgYAmV3"
      }
    },
    {
      "cell_type": "code",
      "source": [
        "my_dict = {\"name\": \"Krishnendu\", \"age\": 25, \"city\": \"Kolkata\"}\n",
        "my_dict"
      ],
      "metadata": {
        "colab": {
          "base_uri": "https://localhost:8080/"
        },
        "id": "o-QJZ0rhAvy3",
        "outputId": "8f139ceb-e909-444c-a6f6-370317b19093"
      },
      "execution_count": 26,
      "outputs": [
        {
          "output_type": "execute_result",
          "data": {
            "text/plain": [
              "{'name': 'Krishnendu', 'age': 25, 'city': 'Kolkata'}"
            ]
          },
          "metadata": {},
          "execution_count": 26
        }
      ]
    },
    {
      "cell_type": "markdown",
      "source": [
        "   22. Write a code to add a new key-value pair \"country\": \"USA\" to the dictionary {'name': 'John', 'age': 25}."
      ],
      "metadata": {
        "id": "duo4-vL9Axce"
      }
    },
    {
      "cell_type": "code",
      "source": [
        "my_dict = {'name': 'John', 'age': 25}\n",
        "my_dict[\"country\"] = \"USA\"\n",
        "my_dict"
      ],
      "metadata": {
        "colab": {
          "base_uri": "https://localhost:8080/"
        },
        "id": "Iu2F617_BoU2",
        "outputId": "0a61f346-d90f-4175-847d-a4c2d9fdb37e"
      },
      "execution_count": 27,
      "outputs": [
        {
          "output_type": "execute_result",
          "data": {
            "text/plain": [
              "{'name': 'John', 'age': 25, 'country': 'USA'}"
            ]
          },
          "metadata": {},
          "execution_count": 27
        }
      ]
    },
    {
      "cell_type": "markdown",
      "source": [
        "   23. Write a code to access the value associated with the key \"name\" in the dictionary {'name': 'Alice', 'age': 30'}."
      ],
      "metadata": {
        "id": "THb6PeaOBqCf"
      }
    },
    {
      "cell_type": "code",
      "source": [
        "my_dict = {'name': 'Alice', 'age': 30}\n",
        "print(my_dict['name'])"
      ],
      "metadata": {
        "colab": {
          "base_uri": "https://localhost:8080/"
        },
        "id": "noXljqmDB9Hu",
        "outputId": "d1786f69-c982-45ec-c7e6-9610c3d61dcb"
      },
      "execution_count": 28,
      "outputs": [
        {
          "output_type": "stream",
          "name": "stdout",
          "text": [
            "Alice\n"
          ]
        }
      ]
    },
    {
      "cell_type": "markdown",
      "source": [
        "   24. Write a code to remove the key \"age\" from the dictionary {'name': 'Bob', 'age': 22, 'city': 'New York'}."
      ],
      "metadata": {
        "id": "dfKPqTrTCBxH"
      }
    },
    {
      "cell_type": "code",
      "source": [
        "my_dict = {'name': 'Bob', 'age': 22, 'city': 'New York'}\n",
        "del my_dict[\"age\"]\n",
        "my_dict"
      ],
      "metadata": {
        "colab": {
          "base_uri": "https://localhost:8080/"
        },
        "id": "eiqt5q_QCNpv",
        "outputId": "10ba71b7-9785-483b-b08a-0d57b817d23d"
      },
      "execution_count": 29,
      "outputs": [
        {
          "output_type": "execute_result",
          "data": {
            "text/plain": [
              "{'name': 'Bob', 'city': 'New York'}"
            ]
          },
          "metadata": {},
          "execution_count": 29
        }
      ]
    },
    {
      "cell_type": "markdown",
      "source": [
        "   25.  Write a code to check if the key \"city\" exists in the dictionary {'name': 'Alice', 'city': 'Paris'}."
      ],
      "metadata": {
        "id": "uehLu6xtCPg2"
      }
    },
    {
      "cell_type": "code",
      "source": [
        "my_dict = {'name': 'Alice', 'city': 'Paris'}\n",
        "print(\"city\" in my_dict)"
      ],
      "metadata": {
        "colab": {
          "base_uri": "https://localhost:8080/"
        },
        "id": "WYIHnbJXCaLH",
        "outputId": "8697b050-59e6-4ed2-9049-3df1ac33678c"
      },
      "execution_count": 30,
      "outputs": [
        {
          "output_type": "stream",
          "name": "stdout",
          "text": [
            "True\n"
          ]
        }
      ]
    },
    {
      "cell_type": "markdown",
      "source": [
        "   26. Write a code to create a list, a tuple, and a dictionary, and print them all."
      ],
      "metadata": {
        "id": "SqfTd4kSCcse"
      }
    },
    {
      "cell_type": "code",
      "source": [
        "# Create a list\n",
        "my_list = [1, 2, 3, 4, 5]\n",
        "\n",
        "# Create a tuple\n",
        "my_tuple = (10, 20, 30, 40, 50)\n",
        "\n",
        "# Create a dictionary\n",
        "my_dictionary = {\"name\": \"Alice\", \"age\": 30, \"city\": \"Paris\"}\n",
        "\n",
        "# Print the data structures\n",
        "print(\"My List:\", my_list)\n",
        "print(\"My Tuple:\", my_tuple)\n",
        "print(\"My Dictionary:\", my_dictionary)"
      ],
      "metadata": {
        "colab": {
          "base_uri": "https://localhost:8080/"
        },
        "id": "O-0sfAzJCn1H",
        "outputId": "80aa2e83-3333-4d9c-f46e-14f0215e3ebf"
      },
      "execution_count": 31,
      "outputs": [
        {
          "output_type": "stream",
          "name": "stdout",
          "text": [
            "My List: [1, 2, 3, 4, 5]\n",
            "My Tuple: (10, 20, 30, 40, 50)\n",
            "My Dictionary: {'name': 'Alice', 'age': 30, 'city': 'Paris'}\n"
          ]
        }
      ]
    },
    {
      "cell_type": "markdown",
      "source": [
        "   27. Write a code to create a list of 5 random numbers between 1 and 100, sort it in ascending order, and print the result."
      ],
      "metadata": {
        "id": "HaqfbMHPCqnv"
      }
    },
    {
      "cell_type": "code",
      "source": [
        "import random\n",
        "\n",
        "random_numbers = [random.randint(1, 100) for _ in range(5)]\n",
        "random_numbers.sort()\n",
        "random_numbers"
      ],
      "metadata": {
        "colab": {
          "base_uri": "https://localhost:8080/"
        },
        "id": "Ofz_W-PzC1PP",
        "outputId": "424966a3-2de3-4eea-8a68-4cb6ae275112"
      },
      "execution_count": 32,
      "outputs": [
        {
          "output_type": "execute_result",
          "data": {
            "text/plain": [
              "[3, 34, 65, 74, 98]"
            ]
          },
          "metadata": {},
          "execution_count": 32
        }
      ]
    },
    {
      "cell_type": "markdown",
      "source": [
        "   28. Write a code to create a list with strings and print the element at the third index."
      ],
      "metadata": {
        "id": "Ps6WhuCWC3I2"
      }
    },
    {
      "cell_type": "code",
      "source": [
        "my_list_strings = [\"apple\", \"banana\", \"cherry\", \"date\", \"elderberry\"]\n",
        "print(my_list_strings[3])"
      ],
      "metadata": {
        "colab": {
          "base_uri": "https://localhost:8080/"
        },
        "id": "yx_cfyu6C_LX",
        "outputId": "6b4e31ec-1037-4661-d4f2-ce391e7bf813"
      },
      "execution_count": 33,
      "outputs": [
        {
          "output_type": "stream",
          "name": "stdout",
          "text": [
            "date\n"
          ]
        }
      ]
    },
    {
      "cell_type": "markdown",
      "source": [
        "   29. Write a code to combine two dictionaries into one and print the result."
      ],
      "metadata": {
        "id": "1--2gT-MDBGX"
      }
    },
    {
      "cell_type": "code",
      "source": [
        "dict1 = {'a': 1, 'b': 2}\n",
        "dict2 = {'c': 3, 'd': 4}\n",
        "combined_dict = {**dict1, **dict2}\n",
        "combined_dict"
      ],
      "metadata": {
        "colab": {
          "base_uri": "https://localhost:8080/"
        },
        "id": "5jOMjxwjDJzX",
        "outputId": "7f264eed-eb6f-4273-80cd-fb32767e93ae"
      },
      "execution_count": 34,
      "outputs": [
        {
          "output_type": "execute_result",
          "data": {
            "text/plain": [
              "{'a': 1, 'b': 2, 'c': 3, 'd': 4}"
            ]
          },
          "metadata": {},
          "execution_count": 34
        }
      ]
    },
    {
      "cell_type": "markdown",
      "source": [
        "   30. Write a code to convert a list of strings into a set."
      ],
      "metadata": {
        "id": "5r8h2wkcDLcv"
      }
    },
    {
      "cell_type": "code",
      "source": [
        "list_of_strings = [\"apple\", \"banana\", \"apple\", \"cherry\"]\n",
        "set_of_strings = set(list_of_strings)\n",
        "set_of_strings"
      ],
      "metadata": {
        "colab": {
          "base_uri": "https://localhost:8080/"
        },
        "id": "YcuACkaODZLX",
        "outputId": "eea1e8e3-656a-45e6-cdf9-a48ee073f398"
      },
      "execution_count": 35,
      "outputs": [
        {
          "output_type": "execute_result",
          "data": {
            "text/plain": [
              "{'apple', 'banana', 'cherry'}"
            ]
          },
          "metadata": {},
          "execution_count": 35
        }
      ]
    }
  ]
}